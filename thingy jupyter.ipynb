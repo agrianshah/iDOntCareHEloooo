{
 "cells": [
  {
   "cell_type": "code",
   "execution_count": 2,
   "id": "f0767a3e-c218-4ad7-bc94-3e5636301155",
   "metadata": {},
   "outputs": [
    {
     "name": "stdout",
     "output_type": "stream",
     "text": [
      "Hello Michael\n"
     ]
    }
   ],
   "source": [
    "print(\"Hello Michael\")"
   ]
  },
  {
   "cell_type": "code",
   "execution_count": null,
   "id": "b67dc685-a8fa-4783-b969-5173a7d6b7b9",
   "metadata": {},
   "outputs": [],
   "source": []
  }
 ],
 "metadata": {
  "kernelspec": {
   "display_name": "Python 3 (ipykernel)",
   "language": "python",
   "name": "python3"
  },
  "language_info": {
   "codemirror_mode": {
    "name": "ipython",
    "version": 3
   },
   "file_extension": ".py",
   "mimetype": "text/x-python",
   "name": "python",
   "nbconvert_exporter": "python",
   "pygments_lexer": "ipython3",
   "version": "3.11.5"
  }
 },
 "nbformat": 4,
 "nbformat_minor": 5
}
